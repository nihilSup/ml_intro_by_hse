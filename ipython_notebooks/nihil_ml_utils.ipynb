{
 "cells": [
  {
   "cell_type": "markdown",
   "metadata": {},
   "source": [
    "# ipython utils notebook"
   ]
  },
  {
   "cell_type": "code",
   "execution_count": 1,
   "metadata": {},
   "outputs": [],
   "source": [
    "from time import time\n",
    "\n",
    "import numpy as np\n",
    "from sklearn.model_selection import cross_val_score"
   ]
  },
  {
   "cell_type": "code",
   "execution_count": 2,
   "metadata": {},
   "outputs": [],
   "source": [
    "def is_main_module():\n",
    "    \"\"\"\n",
    "    Returns whether this notebook is the main module\n",
    "    ie not being run from another notebook\n",
    "    \"\"\"\n",
    "    return __name__ == '__main__' and '__file__' not in globals()"
   ]
  },
  {
   "cell_type": "code",
   "execution_count": 3,
   "metadata": {},
   "outputs": [],
   "source": [
    "def cross_validate_est(est_cls, x, y, cv, par_values, par_key,\n",
    "                       scoring='accuracy', est_params=None, agg_f=np.mean,\n",
    "                       timed=False):\n",
    "    \"\"\"Variates parameter par_key of estimator created by est_cls\n",
    "    (est_params is kwargs for constructor) by taking them from\n",
    "    sequence par_vlaues and cross-validates results. Cross-valdation\n",
    "    is performed on x,y by strategy cv.\n",
    "    agg_f - is used to aggregate array of cross validation results for\n",
    "    each parameter value. Default: np.mean. If None passed then no aggregation\n",
    "    performs and raw data pd frame returned \"\"\"\n",
    "    if not est_params:\n",
    "        est_params = {}\n",
    "    start = time()\n",
    "    res = pd.DataFrame(\n",
    "        [(key, cross_val_score(est_cls(**{**est_params, par_key: key}),\n",
    "                               x, y, cv=cv, scoring=scoring), time() - start)\n",
    "         for key in par_values],\n",
    "        columns=[par_key, scoring, 'exec time (s)']\n",
    "    )\n",
    "    # TO-DO: bad code, refactor\n",
    "    # remove exec time\n",
    "    if not timed:\n",
    "        res.drop('exec time (s)', axis=1, inplace=True)\n",
    "    res.set_index([par_key], inplace=True)\n",
    "    if agg_f:\n",
    "        agg_name = agg_f.__name__\n",
    "        res[agg_name] = res[scoring].map(lambda s: agg_f(s))\n",
    "        return res\n",
    "    else:\n",
    "        return res"
   ]
  },
  {
   "cell_type": "code",
   "execution_count": 4,
   "metadata": {},
   "outputs": [],
   "source": [
    "def to_path(filename):\n",
    "    \"\"\"returns full path to file in ml folder on my pc\"\"\"\n",
    "    return 'D:\\\\WORK\\ml\\\\data\\\\' + filename"
   ]
  },
  {
   "cell_type": "code",
   "execution_count": 5,
   "metadata": {},
   "outputs": [],
   "source": [
    "def sigmoid(z):\n",
    "    return 1. / (1. + np.exp(-z))"
   ]
  },
  {
   "cell_type": "code",
   "execution_count": 6,
   "metadata": {},
   "outputs": [],
   "source": [
    "if is_main_module():\n",
    "    pass"
   ]
  },
  {
   "cell_type": "code",
   "execution_count": null,
   "metadata": {},
   "outputs": [],
   "source": []
  }
 ],
 "metadata": {
  "kernelspec": {
   "display_name": "Python 3",
   "language": "python",
   "name": "python3"
  },
  "language_info": {
   "codemirror_mode": {
    "name": "ipython",
    "version": 3
   },
   "file_extension": ".py",
   "mimetype": "text/x-python",
   "name": "python",
   "nbconvert_exporter": "python",
   "pygments_lexer": "ipython3",
   "version": "3.6.3"
  }
 },
 "nbformat": 4,
 "nbformat_minor": 2
}
