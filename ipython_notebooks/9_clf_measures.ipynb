{
 "cells": [
  {
   "cell_type": "markdown",
   "metadata": {},
   "source": [
    "# Classification quality measures"
   ]
  },
  {
   "cell_type": "code",
   "execution_count": 1,
   "metadata": {},
   "outputs": [],
   "source": [
    "import pandas as pd\n",
    "from sklearn.metrics import accuracy_score, precision_score,\\\n",
    "    recall_score, f1_score, roc_auc_score, precision_recall_curve"
   ]
  },
  {
   "cell_type": "code",
   "execution_count": 2,
   "metadata": {},
   "outputs": [],
   "source": [
    "%%capture \n",
    "%run nihil_ml_utils.ipynb"
   ]
  },
  {
   "cell_type": "code",
   "execution_count": 3,
   "metadata": {},
   "outputs": [],
   "source": [
    "# data upload\n",
    "clf_data = pd.read_csv(to_path('classification.csv'))"
   ]
  },
  {
   "cell_type": "code",
   "execution_count": 4,
   "metadata": {},
   "outputs": [],
   "source": [
    "# classification errors data\n",
    "tp_data = clf_data[(clf_data['true'] == True) & (clf_data['pred'] == True)]\n",
    "fp_data = clf_data[(clf_data['true'] == False) & (clf_data['pred'] == True)]\n",
    "fn_data = clf_data[(clf_data['true'] == True) & (clf_data['pred'] == False)]\n",
    "tn_data = clf_data[(clf_data['true'] == False) & (clf_data['pred'] == False)]"
   ]
  },
  {
   "cell_type": "code",
   "execution_count": 6,
   "metadata": {},
   "outputs": [
    {
     "name": "stdout",
     "output_type": "stream",
     "text": [
      "Classification errors (tp, fp, fn, tn): 43 34 59 64\n"
     ]
    }
   ],
   "source": [
    "# classification errors values\n",
    "tp = len(tp_data)\n",
    "fp = len(fp_data)\n",
    "fn = len(fn_data)\n",
    "tn = len(tn_data)\n",
    "print(f'Classification errors (tp, fp, fn, tn): '\n",
    "      f'{tp} {fp} {fn} {tn}')"
   ]
  },
  {
   "cell_type": "code",
   "execution_count": 8,
   "metadata": {},
   "outputs": [],
   "source": [
    "# main binary classification measures"
   ]
  },
  {
   "cell_type": "code",
   "execution_count": 9,
   "metadata": {},
   "outputs": [],
   "source": [
    "# part of correctly classified objects among all\n",
    "accuracy = (tp + tn) / (tp + fp + fn + tn)\n",
    "acc_sk = accuracy_score(clf_data['true'], clf_data['pred'])"
   ]
  },
  {
   "cell_type": "code",
   "execution_count": 10,
   "metadata": {},
   "outputs": [],
   "source": [
    "# part of correctly classified 1-st class objects in all objects which\n",
    "# classifier considered as 1-st class\n",
    "precision = tp / (tp + fp)\n",
    "prec_sk = precision_score(clf_data['true'], clf_data['pred'])"
   ]
  },
  {
   "cell_type": "code",
   "execution_count": 11,
   "metadata": {},
   "outputs": [],
   "source": [
    "# proportion of correctly classified 1-st class objects in all 1-st class\n",
    "recall = tp / (tp + fn)\n",
    "recall_sk = recall_score(clf_data['true'], clf_data['pred'])"
   ]
  },
  {
   "cell_type": "code",
   "execution_count": 12,
   "metadata": {},
   "outputs": [
    {
     "name": "stdout",
     "output_type": "stream",
     "text": [
      "0.54 0.56 0.42 0.48\n"
     ]
    }
   ],
   "source": [
    "# F measure, harmonic average\n",
    "F_meas = 2*precision*recall/(precision + recall)\n",
    "F_meas_sk = f1_score(clf_data['true'], clf_data['pred'])\n",
    "print(f'{accuracy:.2f} {precision:.2f} {recall:.2f} {F_meas:.2f}')"
   ]
  },
  {
   "cell_type": "code",
   "execution_count": null,
   "metadata": {},
   "outputs": [],
   "source": [
    "# Probability classification measures"
   ]
  },
  {
   "cell_type": "code",
   "execution_count": 14,
   "metadata": {},
   "outputs": [],
   "source": [
    "# data upload\n",
    "scores_data = pd.read_csv(to_path('scores.csv'))\n",
    "y_true = scores_data['true']\n",
    "y_pred = scores_data[scores_data.columns[1:]]"
   ]
  },
  {
   "cell_type": "code",
   "execution_count": 15,
   "metadata": {},
   "outputs": [
    {
     "name": "stdout",
     "output_type": "stream",
     "text": [
      "Best roc auc is 0.719187675070028 by classifier score_logreg\n"
     ]
    }
   ],
   "source": [
    "# function roc_auc_score returns float score, so scores_rocauc is dict \n",
    "# with classifiers names as keys and roc_auc as value\n",
    "scores_rocauc = {column: roc_auc_score(y_true, y_pred[column])\n",
    "                 for column in y_pred.columns}\n",
    "res = sorted(scores_rocauc.items(), key=lambda i: i[1], reverse=True)\n",
    "print(f'Best roc auc is {res[0][1]} by classifier {res[0][0]}')"
   ]
  },
  {
   "cell_type": "code",
   "execution_count": 16,
   "metadata": {},
   "outputs": [
    {
     "name": "stdout",
     "output_type": "stream",
     "text": [
      "Best precision witn recall >= 0.7 is classifier: score_tree\n"
     ]
    }
   ],
   "source": [
    "# Precision-Recall curve\n",
    "best_prec = dict()\n",
    "for column in y_pred.columns:\n",
    "    # tpl is tuple (precision_array, recall_array, treshold_array)\n",
    "    tpl = precision_recall_curve(y_true, scores_data[column])\n",
    "    scores_df = pd.DataFrame({'precision': tpl[0], 'recall': tpl[1]})\n",
    "    best_prec[column] = scores_df[scores_df['recall'] >= 0.7]['precision'].max()\n",
    "print(f'Best precision witn recall >= 0.7 is classifier:'\n",
    "      f' {max(best_prec, key=lambda k: best_prec[k])}')"
   ]
  }
 ],
 "metadata": {
  "kernelspec": {
   "display_name": "Python 3",
   "language": "python",
   "name": "python3"
  },
  "language_info": {
   "codemirror_mode": {
    "name": "ipython",
    "version": 3
   },
   "file_extension": ".py",
   "mimetype": "text/x-python",
   "name": "python",
   "nbconvert_exporter": "python",
   "pygments_lexer": "ipython3",
   "version": "3.6.3"
  }
 },
 "nbformat": 4,
 "nbformat_minor": 2
}
