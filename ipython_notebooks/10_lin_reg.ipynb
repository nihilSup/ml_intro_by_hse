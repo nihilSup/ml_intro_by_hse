{
 "cells": [
  {
   "cell_type": "markdown",
   "metadata": {},
   "source": [
    "# Linear regression"
   ]
  },
  {
   "cell_type": "code",
   "execution_count": 1,
   "metadata": {},
   "outputs": [],
   "source": [
    "import pandas as pd\n",
    "from sklearn.feature_extraction.text import TfidfVectorizer\n",
    "from sklearn.feature_extraction import DictVectorizer\n",
    "from sklearn.linear_model import Ridge\n",
    "import re\n",
    "import scipy"
   ]
  },
  {
   "cell_type": "code",
   "execution_count": 2,
   "metadata": {},
   "outputs": [],
   "source": [
    "%%capture \n",
    "%run nihil_ml_utils.ipynb"
   ]
  },
  {
   "cell_type": "code",
   "execution_count": 4,
   "metadata": {},
   "outputs": [],
   "source": [
    "# data format:\n",
    "# Full description - large text, Location Normalized - categorical town or some place\n",
    "# ContractTime - categorical type of vacancy, SalaryNormalized - nans\n",
    "data_train = pd.read_csv(to_path('salary-train.csv'))\n",
    "data_test = pd.read_csv(to_path('salary-test-mini.csv'))"
   ]
  },
  {
   "cell_type": "code",
   "execution_count": 6,
   "metadata": {},
   "outputs": [],
   "source": [
    "# Full description conversion:\n",
    "#   replace all not text data by spaces, also convert to lowercase it.\n",
    "#   convert by TfidfVectorizer to sparse matrix with l rows and tons of\n",
    "#   feature columns"
   ]
  },
  {
   "cell_type": "code",
   "execution_count": 7,
   "metadata": {},
   "outputs": [],
   "source": [
    "def process_text(text):\n",
    "    return re.sub('[^a-zA-Z0-9]', ' ', text.lower())"
   ]
  },
  {
   "cell_type": "code",
   "execution_count": 9,
   "metadata": {},
   "outputs": [],
   "source": [
    "data_train['FullDescription'] = data_train['FullDescription'].map(process_text)\n",
    "data_test['FullDescription'] = data_test['FullDescription'].map(process_text)\n",
    "tfidf_enc = TfidfVectorizer(min_df=5)\n",
    "# min_df - ignore elements with freq less then x\n",
    "X_train_tfidf = tfidf_enc.fit_transform(data_train['FullDescription'])\n",
    "X_test_tfidf = tfidf_enc.transform(data_test['FullDescription'])"
   ]
  },
  {
   "cell_type": "code",
   "execution_count": 10,
   "metadata": {},
   "outputs": [],
   "source": [
    "# Location Normalized, ContractTime conversion:\n",
    "#   fill nans with 'nan' to count it as category\n",
    "#   use DictVectorizer to one-hot encode merge of this two columns,\n",
    "#   i.e. convert categorical features (merged as one dict) to set of binary\n",
    "#   features"
   ]
  },
  {
   "cell_type": "code",
   "execution_count": 11,
   "metadata": {},
   "outputs": [],
   "source": [
    "def fill_na(df):\n",
    "    df['LocationNormalized'].fillna('nan', inplace=True)\n",
    "    df['ContractTime'].fillna('nan', inplace=True)"
   ]
  },
  {
   "cell_type": "code",
   "execution_count": 12,
   "metadata": {},
   "outputs": [],
   "source": [
    "fill_na(data_train)\n",
    "# fill_na(data_test)\n",
    "dict_enc = DictVectorizer()\n",
    "X_train_categ = dict_enc.fit_transform(\n",
    "    data_train[['LocationNormalized', 'ContractTime']].to_dict('records'))\n",
    "X_test_categ = dict_enc.transform(\n",
    "    data_test[['LocationNormalized', 'ContractTime']].to_dict('records'))"
   ]
  },
  {
   "cell_type": "code",
   "execution_count": 13,
   "metadata": {},
   "outputs": [],
   "source": [
    "# Combine feature sparse matrices\n",
    "X_train = scipy.sparse.hstack([X_train_tfidf, X_train_categ])\n",
    "X_test = scipy.sparse.hstack([X_test_tfidf, X_test_categ])"
   ]
  },
  {
   "cell_type": "code",
   "execution_count": 14,
   "metadata": {},
   "outputs": [],
   "source": [
    "# Get y\n",
    "y_train = data_train['SalaryNormalized']"
   ]
  },
  {
   "cell_type": "code",
   "execution_count": 15,
   "metadata": {},
   "outputs": [
    {
     "data": {
      "text/plain": [
       "Ridge(alpha=1, copy_X=True, fit_intercept=True, max_iter=None,\n",
       "   normalize=False, random_state=241, solver='auto', tol=0.001)"
      ]
     },
     "execution_count": 15,
     "metadata": {},
     "output_type": "execute_result"
    }
   ],
   "source": [
    "# Train Ridge linear regression\n",
    "reg = Ridge(alpha=1, random_state=241)\n",
    "reg.fit(X_train, y_train)"
   ]
  },
  {
   "cell_type": "code",
   "execution_count": 17,
   "metadata": {},
   "outputs": [
    {
     "name": "stdout",
     "output_type": "stream",
     "text": [
      "56555.62 37188.32\n"
     ]
    }
   ],
   "source": [
    "# Predict test set\n",
    "y_test = reg.predict(X_test)\n",
    "print(f'{y_test[0]:.2f} {y_test[1]:.2f}')"
   ]
  },
  {
   "cell_type": "code",
   "execution_count": null,
   "metadata": {},
   "outputs": [],
   "source": []
  }
 ],
 "metadata": {
  "kernelspec": {
   "display_name": "Python 3",
   "language": "python",
   "name": "python3"
  },
  "language_info": {
   "codemirror_mode": {
    "name": "ipython",
    "version": 3
   },
   "file_extension": ".py",
   "mimetype": "text/x-python",
   "name": "python",
   "nbconvert_exporter": "python",
   "pygments_lexer": "ipython3",
   "version": "3.6.3"
  }
 },
 "nbformat": 4,
 "nbformat_minor": 2
}
