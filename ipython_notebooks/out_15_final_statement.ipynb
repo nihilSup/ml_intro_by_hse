{
 "cells": [
  {
   "cell_type": "markdown",
   "metadata": {},
   "source": [
    "# Final statement - Dota 2 match winner prediction"
   ]
  },
  {
   "cell_type": "code",
   "execution_count": 1,
   "metadata": {},
   "outputs": [],
   "source": [
    "import pandas as pd\n",
    "import numpy as np\n",
    "import matplotlib.pyplot as plt\n",
    "from sklearn.ensemble import GradientBoostingClassifier\n",
    "from sklearn.linear_model import LogisticRegression\n",
    "from sklearn.preprocessing import StandardScaler\n",
    "from sklearn.model_selection import KFold\n",
    "\n",
    "import itertools"
   ]
  },
  {
   "cell_type": "markdown",
   "metadata": {},
   "source": [
    "### Подключение вспомогательных функций"
   ]
  },
  {
   "cell_type": "code",
   "execution_count": 11,
   "metadata": {},
   "outputs": [],
   "source": [
    "%%capture \n",
    "%run nihil_ml_utils.ipynb"
   ]
  },
  {
   "cell_type": "markdown",
   "metadata": {},
   "source": [
    "## Подготовка данных"
   ]
  },
  {
   "cell_type": "code",
   "execution_count": 3,
   "metadata": {},
   "outputs": [],
   "source": [
    "# Загрузка данных\n",
    "features = pd.read_csv(to_path('final_statement\\\\features.csv'),\n",
    "                       index_col='match_id')\n",
    "# Удаляем признаки, связанные с итогами матча\n",
    "res_features = ['duration', 'radiant_win', 'tower_status_radiant',\n",
    "                'tower_status_dire', 'barracks_status_radiant',\n",
    "                'barracks_status_dire']\n",
    "feat_wo_res = features.drop(columns=res_features)"
   ]
  },
  {
   "cell_type": "markdown",
   "metadata": {},
   "source": [
    "### Обработка пропусков"
   ]
  },
  {
   "cell_type": "code",
   "execution_count": 4,
   "metadata": {},
   "outputs": [
    {
     "data": {
      "text/plain": [
       "first_blood_time               19553\n",
       "first_blood_team               19553\n",
       "first_blood_player1            19553\n",
       "first_blood_player2            43987\n",
       "radiant_bottle_time            15691\n",
       "radiant_courier_time             692\n",
       "radiant_flying_courier_time    27479\n",
       "radiant_first_ward_time         1836\n",
       "dire_bottle_time               16143\n",
       "dire_courier_time                676\n",
       "dire_flying_courier_time       26098\n",
       "dire_first_ward_time            1826\n",
       "dtype: int64"
      ]
     },
     "execution_count": 4,
     "metadata": {},
     "output_type": "execute_result"
    }
   ],
   "source": [
    "# столбцы с пропусками\n",
    "col_with_skips = feat_wo_res.isnull().sum(); col_with_skips[col_with_skips > 0]"
   ]
  },
  {
   "cell_type": "code",
   "execution_count": 5,
   "metadata": {},
   "outputs": [
    {
     "name": "stdout",
     "output_type": "stream",
     "text": [
      "['first_blood_time', 'first_blood_team', 'first_blood_player1', 'first_blood_player2', 'radiant_bottle_time', 'radiant_courier_time', 'radiant_flying_courier_time', 'radiant_first_ward_time', 'dire_bottle_time', 'dire_courier_time', 'dire_flying_courier_time', 'dire_first_ward_time']\n"
     ]
    }
   ],
   "source": [
    "col_with_skips = col_with_skips[col_with_skips > 0]\n",
    "print(list(col_with_skips.index))"
   ]
  },
  {
   "cell_type": "markdown",
   "metadata": {},
   "source": [
    "### Про признаки с пропусками и почему они их содержат\n",
    "Короткое объяснение - все эти признаки описывают события, которые могли не\n",
    "не произойти за первые 5 минут игры.\n",
    "Все множество признаков с пропусками можно разбить на три группы и дать\n",
    "объяснение для каждой группы:\n",
    "1. признаки связанные с событием first blood - событие могло не произойти в\n",
    "   заданный отрезок времени (первые 5 минут игры).\n",
    "   - Видно, что признак first_blood_player2 отсутсвует куда больше чем\n",
    "      остальные из этой категории. Если предположить, что это игрок который\n",
    "      совершил убийство, то для случаев, когда игрока убил NPC, этот\n",
    "      признак будет пустым. Если это второй игрок, который помогал первому\n",
    "      кого-то убивать - в таком случае возможны ситуации, когда первый игрок\n",
    "      проделал всю работу в одиночку.\n",
    "2. признаки связанные с покупкой предмета - предмет могли не купить в заданный\n",
    "   отрезок времени\n",
    "3. признаки связанные с первой установкой ward_observer - событие могло не\n",
    "   произойти в заданный отрезок времени"
   ]
  },
  {
   "cell_type": "code",
   "execution_count": 6,
   "metadata": {},
   "outputs": [],
   "source": [
    "# обработка пропущенных значений\n",
    "feat_wo_res.fillna(0.0, inplace=True)"
   ]
  },
  {
   "cell_type": "code",
   "execution_count": 7,
   "metadata": {},
   "outputs": [],
   "source": [
    "# Целевая переменная это 'radiant_win'\n",
    "y = features['radiant_win']"
   ]
  },
  {
   "cell_type": "markdown",
   "metadata": {},
   "source": [
    "### Настройка параметров кросс-валидации"
   ]
  },
  {
   "cell_type": "code",
   "execution_count": 8,
   "metadata": {},
   "outputs": [],
   "source": [
    "# Cross-validation setup\n",
    "kf = KFold(n_splits=5, shuffle=True, random_state=241)"
   ]
  },
  {
   "cell_type": "markdown",
   "metadata": {},
   "source": [
    "## Подход 1: градиентный бустинг \"в лоб\""
   ]
  },
  {
   "cell_type": "code",
   "execution_count": 13,
   "metadata": {},
   "outputs": [],
   "source": [
    "n_estim_range = [10, 20, 30, 50, 100, 250]\n",
    "results_gb = cross_validate_est(GradientBoostingClassifier, feat_wo_res, y, cv=kf,\n",
    "                                scoring='roc_auc',\n",
    "                                est_params={'random_state': 241},\n",
    "                                par_key='n_estimators',\n",
    "                                par_values=n_estim_range,\n",
    "                                timed=True)"
   ]
  },
  {
   "cell_type": "code",
   "execution_count": 14,
   "metadata": {},
   "outputs": [
    {
     "data": {
      "image/png": "[encoded data removed]",
      "text/plain": [
       "<matplotlib.figure.Figure at 0xc036710>"
      ]
     },
     "metadata": {},
     "output_type": "display_data"
    }
   ],
   "source": [
    "# Отрисовка результатов\n",
    "plt.plot(results_gb.index, results_gb['mean'])\n",
    "plt.xlabel('n_estimators')\n",
    "plt.ylabel('roc auc score')\n",
    "plt.show()"
   ]
  },
  {
   "cell_type": "code",
   "execution_count": 19,
   "metadata": {},
   "outputs": [
    {
     "data": {
      "text/plain": [
       "exec time (s)     94.0944\n",
       "mean             0.689496\n",
       "Name: 30, dtype: object"
      ]
     },
     "execution_count": 19,
     "metadata": {},
     "output_type": "execute_result"
    }
   ],
   "source": [
    "results_gb.loc[30, ['exec time (s)', 'mean']]"
   ]
  },
  {
   "cell_type": "code",
   "execution_count": 16,
   "metadata": {},
   "outputs": [
    {
     "name": "stdout",
     "output_type": "stream",
     "text": [
      "Лучший результат при количестве деревьев: 250, время выполнения: 681.02 с\n"
     ]
    }
   ],
   "source": [
    "# Итого\n",
    "best_n_est = results_gb['mean'].idxmax()\n",
    "exec_time = results_gb.loc[best_n_est, 'exec time (s)']\n",
    "print(f'Лучший результат при количестве деревьев: {best_n_est}, время выполнения: {exec_time:.2f} с')"
   ]
  },
  {
   "cell_type": "markdown",
   "metadata": {},
   "source": [
    "### Выводы по градиентному бустингу\n",
    "Кросс-валидация градиентного бустинга с 30 деревьями заняла 94.09 с. Было достигнуто качество (метрика AUC-ROC) 0.69. Из графика видно что качество продолжает расти и после отметки в 30 деревьев, при этом кросс-валидация занимает весьма существенное время. \n",
    "\n",
    "Для того, чтобы как-то ускорить процесс обучения можно изменить параметр max_depth, отвечающий за максимальную глубину строящихся деревьев. Если пытаться улучшить процесс поиска наилучшего значения (то есть последовательный вызов метода для кросс валидации), то можно использовать warm_start - это приведет к переиспользованию модели с предыдущей итерации."
   ]
  },
  {
   "cell_type": "markdown",
   "metadata": {},
   "source": [
    "## Подход 2: логистическая регрессия"
   ]
  },
  {
   "cell_type": "markdown",
   "metadata": {},
   "source": [
    "### Предобработка и настройка параметров"
   ]
  },
  {
   "cell_type": "code",
   "execution_count": 21,
   "metadata": {},
   "outputs": [],
   "source": [
    "# Масштабирование признаков\n",
    "scaler = StandardScaler()\n",
    "X = scaler.fit_transform(feat_wo_res)"
   ]
  },
  {
   "cell_type": "code",
   "execution_count": 23,
   "metadata": {},
   "outputs": [],
   "source": [
    "# Метод-помощник для определения лучшего коэффициента регуляризации и отрисовки графиков\n",
    "def find_best_c(results):\n",
    "    # plot logistic regression results\n",
    "    plt.plot(np.log(results.index), results['mean'])\n",
    "    plt.xlabel('log(C)')\n",
    "    plt.ylabel('roc auc score')\n",
    "    plt.show()\n",
    "    # Best C\n",
    "    best_C = results['mean'].idxmax()\n",
    "    best_C_time = results.loc[best_C, 'exec time (s)']\n",
    "    return best_C, results.loc[best_C, 'mean'], best_C_time"
   ]
  },
  {
   "cell_type": "code",
   "execution_count": 24,
   "metadata": {},
   "outputs": [],
   "source": [
    "# Настройки кросс-валидации и списка значений коэффициента регуляризации (меньше С - сильнее регуляризация)\n",
    "C_range = [1.0, 0.8, 0.6, 0.4, 0.2, 0.1, 0.01, 0.001, 0.0001]\n",
    "cv_reg_def = {'cv': kf, 'scoring': 'roc_auc',\n",
    "              'est_params': {'random_state': 241},\n",
    "              'par_key': 'C', 'par_values': C_range,\n",
    "              'timed': True}"
   ]
  },
  {
   "cell_type": "markdown",
   "metadata": {},
   "source": [
    "### Кросс-валидация на всех признаках с масштабированием"
   ]
  },
  {
   "cell_type": "code",
   "execution_count": 28,
   "metadata": {},
   "outputs": [],
   "source": [
    "results = cross_validate_est(LogisticRegression, X, y,\n",
    "                             **cv_reg_def)"
   ]
  },
  {
   "cell_type": "code",
   "execution_count": 30,
   "metadata": {},
   "outputs": [
    {
     "data": {
      "image/png": "[encoded data removed]",
      "text/plain": [
       "<matplotlib.figure.Figure at 0xdb88dd8>"
      ]
     },
     "metadata": {},
     "output_type": "display_data"
    },
    {
     "name": "stdout",
     "output_type": "stream",
     "text": [
      "Best C: 0.01, AUC ROC: 0.72, Time: 68.74 c\n"
     ]
    }
   ],
   "source": [
    "best = find_best_c(results)\n",
    "print(f'Best C: {best[0]}, AUC ROC: {best[1]:.2f}, Time: {best[2]:.2f} c')"
   ]
  },
  {
   "cell_type": "markdown",
   "metadata": {},
   "source": [
    "### Кросс-валидация на признаках без категорийных, с масштабированием"
   ]
  },
  {
   "cell_type": "code",
   "execution_count": 31,
   "metadata": {},
   "outputs": [],
   "source": [
    "# Удаляем категорийные признаки\n",
    "cat_features = ['lobby_type'] + \\\n",
    "               [f'{prod[0]}{prod[1]}_hero'\n",
    "                for prod in itertools.product(['r', 'd'], range(1, 6))]\n",
    "feat_wo_cat = feat_wo_res.drop(columns=cat_features)"
   ]
  },
  {
   "cell_type": "code",
   "execution_count": 32,
   "metadata": {},
   "outputs": [],
   "source": [
    "# масштабирование\n",
    "X_wo_cat = scaler.fit_transform(feat_wo_cat)"
   ]
  },
  {
   "cell_type": "code",
   "execution_count": 33,
   "metadata": {},
   "outputs": [],
   "source": [
    "res_wo_cat = cross_validate_est(LogisticRegression, X_wo_cat, y,\n",
    "                                **cv_reg_def)"
   ]
  },
  {
   "cell_type": "code",
   "execution_count": 34,
   "metadata": {
    "scrolled": true
   },
   "outputs": [
    {
     "data": {
      "image/png": "[encoded data removed]",
      "text/plain": [
       "<matplotlib.figure.Figure at 0xdc3f048>"
      ]
     },
     "metadata": {},
     "output_type": "display_data"
    },
    {
     "name": "stdout",
     "output_type": "stream",
     "text": [
      "Best C: 0.01, AUC ROC: 0.72, Time: 65.00 c\n"
     ]
    }
   ],
   "source": [
    "best = find_best_c(res_wo_cat)\n",
    "print(f'Best C: {best[0]}, AUC ROC: {best[1]:.2f}, Time: {best[2]:.2f} c')"
   ]
  },
  {
   "cell_type": "markdown",
   "metadata": {},
   "source": [
    "### Кросс-валидация на всех признаках с подходом 'bag of words', с масштабированием"
   ]
  },
  {
   "cell_type": "code",
   "execution_count": 36,
   "metadata": {},
   "outputs": [
    {
     "name": "stdout",
     "output_type": "stream",
     "text": [
      "Количество героев: 112\n"
     ]
    }
   ],
   "source": [
    "# Подсчет количества героев в игре\n",
    "r_heroes = [f'r{i}_hero' for i in range(1, 6)]\n",
    "d_heroes = [f'd{i}_hero' for i in range(1, 6)]\n",
    "# Подход на основе словаря, так как если искать в данных матчей, то выходит, что некоторое количество героев не играли ни разу:\n",
    "heroes_df = pd.read_csv(to_path('final_statement\\\\dictionaries\\\\heroes.csv'),\n",
    "                        index_col='id')\n",
    "n_heroes = len(heroes_df)\n",
    "print(f'Количество героев: {n_heroes}')"
   ]
  },
  {
   "cell_type": "code",
   "execution_count": 38,
   "metadata": {},
   "outputs": [],
   "source": [
    "# Bag of words для категорийных признаков\n",
    "X_pick = np.zeros((feat_wo_res.shape[0], n_heroes))\n",
    "for i, match_id in enumerate(feat_wo_res.index):\n",
    "    for p in range(5):\n",
    "        X_pick[i, feat_wo_res.loc[match_id, 'r%d_hero' % (p+1)]-1] = 1\n",
    "        X_pick[i, feat_wo_res.loc[match_id, 'd%d_hero' % (p+1)]-1] = -1"
   ]
  },
  {
   "cell_type": "code",
   "execution_count": 39,
   "metadata": {},
   "outputs": [],
   "source": [
    "# склеиваем все вместе\n",
    "X_full = np.hstack([X_wo_cat, X_pick])"
   ]
  },
  {
   "cell_type": "code",
   "execution_count": 40,
   "metadata": {},
   "outputs": [],
   "source": [
    "res_full_lr = cross_validate_est(LogisticRegression, X_full, y, **cv_reg_def)"
   ]
  },
  {
   "cell_type": "code",
   "execution_count": 41,
   "metadata": {},
   "outputs": [
    {
     "data": {
      "image/png": "[encoded data removed]",
      "text/plain": [
       "<matplotlib.figure.Figure at 0xe5888d0>"
      ]
     },
     "metadata": {},
     "output_type": "display_data"
    },
    {
     "name": "stdout",
     "output_type": "stream",
     "text": [
      "Best C: 0.1, AUC ROC: 0.75, Time: 111.12 c\n"
     ]
    }
   ],
   "source": [
    "best = find_best_c(res_full_lr)\n",
    "print(f'Best C: {best[0]}, AUC ROC: {best[1]:.2f}, Time: {best[2]:.2f} c')"
   ]
  },
  {
   "cell_type": "markdown",
   "metadata": {},
   "source": [
    "### Выводы по логистической регрессии\n",
    "- Качество логистической регрессии над всеми признаками: Best C: 0.01, AUC ROC: 0.72, Time: 68.74 c. Качество чуть лучше чем у градиентного бустинга с 30 деревьями: 0.72 против 0.69. При увеличении количества деревьев в бустинге до 250 качество составляет 0.72. Также на качество бустинга могла оказать влияние замена пропусков на ноль. Время выполнения логистической регрессии значительно меньше чем у бустинга (30 деревьев) - 68.74 с против 94.09 с. Это связано в первую очередь с тем, что логистическая регрессиия более простой метод, требующий сравнительно меньших вычислений.\n",
    "- Удаление категориальных признаков никак не повлияло на качество модели: Best C: 0.01, AUC ROC: 0.72, Time: 65.00 c. Но слегка улучшило время работы, что легко объясняется меньшим количеством признаков для обработки. Неизменность качества можно объяснить тем, что модель сочла категориальные признаки шумовыми и не настроилась на них.\n",
    "- Всего в игре 112 героев, при этом в данном наборе партий сыграло 108 различных героев.\n",
    "- Добавление \"мешка слов\" повысило качество до 0.75 и изменило оптимальный коэффициент регуляризации (был 0.01, стал 0.1). Это можно объяснить тем, что теперь категориальные признаки учитываются должным образом, а не являются шумом. Само влияние конкретной комбинации героев на исход матча является примером синергии, подход с мешком слов позволил эти синергию в некотором отношении учесть.\n",
    "- На тестовой выборке max: 1, min: 0.01 (точность 2 занка после запятой)"
   ]
  },
  {
   "cell_type": "markdown",
   "metadata": {},
   "source": [
    "## Прогнозирование для тестовой выборки"
   ]
  },
  {
   "cell_type": "code",
   "execution_count": 48,
   "metadata": {},
   "outputs": [],
   "source": [
    "def create_bag(X, n):\n",
    "    X_bag = np.zeros((X.shape[0], n))\n",
    "    for i, match_id in enumerate(X.index):\n",
    "        for p in range(5):\n",
    "            X_bag[i, X.loc[match_id, 'r%d_hero' % (p + 1)] - 1] = 1\n",
    "            X_bag[i, X.loc[match_id, 'd%d_hero' % (p + 1)] - 1] = -1\n",
    "    return X_bag"
   ]
  },
  {
   "cell_type": "code",
   "execution_count": 42,
   "metadata": {},
   "outputs": [],
   "source": [
    "def pre_process(df, feat_to_drop, n):\n",
    "    df.fillna(0.0, inplace=True)\n",
    "    df_wo = df.drop(columns=feat_to_drop)\n",
    "    X = StandardScaler().fit_transform(df_wo)\n",
    "    X_bagged = create_bag(df, n)\n",
    "    return np.hstack([X, X_bagged])"
   ]
  },
  {
   "cell_type": "code",
   "execution_count": 43,
   "metadata": {},
   "outputs": [],
   "source": [
    "clf = LogisticRegression(C=0.1)"
   ]
  },
  {
   "cell_type": "code",
   "execution_count": 44,
   "metadata": {},
   "outputs": [
    {
     "data": {
      "text/plain": [
       "LogisticRegression(C=0.1, class_weight=None, dual=False, fit_intercept=True,\n",
       "          intercept_scaling=1, max_iter=100, multi_class='ovr', n_jobs=1,\n",
       "          penalty='l2', random_state=None, solver='liblinear', tol=0.0001,\n",
       "          verbose=0, warm_start=False)"
      ]
     },
     "execution_count": 44,
     "metadata": {},
     "output_type": "execute_result"
    }
   ],
   "source": [
    "clf.fit(X_full, y)"
   ]
  },
  {
   "cell_type": "code",
   "execution_count": 49,
   "metadata": {},
   "outputs": [],
   "source": [
    "# тестовая выборка\n",
    "features_test = pd.read_csv(to_path('final_statement\\\\features_test.csv'),\n",
    "                            index_col='match_id')\n",
    "X_kaggle = pre_process(features_test, cat_features, n_heroes)"
   ]
  },
  {
   "cell_type": "code",
   "execution_count": 50,
   "metadata": {},
   "outputs": [],
   "source": [
    "# прогнозирование\n",
    "y_test = clf.predict_proba(X_kaggle)[:, 1]"
   ]
  },
  {
   "cell_type": "code",
   "execution_count": 53,
   "metadata": {},
   "outputs": [
    {
     "name": "stdout",
     "output_type": "stream",
     "text": [
      "Test max: 1.00, min: 0.01\n"
     ]
    }
   ],
   "source": [
    "# максимальные и минимальные значение на прогнозе\n",
    "print(f'Test max: {y_test.max():.2f}, min: {y_test.min():.2f}')"
   ]
  },
  {
   "cell_type": "code",
   "execution_count": 52,
   "metadata": {},
   "outputs": [],
   "source": [
    "# save results to file\n",
    "y_test_df = pd.DataFrame({'radiant_win': y_test}, index=features_test.index)\n",
    "y_test_df.index.name = 'match_id'\n",
    "y_test_df.to_csv(f'./kaggle_pred_1.csv')"
   ]
  }
 ],
 "metadata": {
  "kernelspec": {
   "display_name": "Python 3",
   "language": "python",
   "name": "python3"
  },
  "language_info": {
   "codemirror_mode": {
    "name": "ipython",
    "version": 3
   },
   "file_extension": ".py",
   "mimetype": "text/x-python",
   "name": "python",
   "nbconvert_exporter": "python",
   "pygments_lexer": "ipython3",
   "version": "3.6.3"
  }
 },
 "nbformat": 4,
 "nbformat_minor": 2
}
