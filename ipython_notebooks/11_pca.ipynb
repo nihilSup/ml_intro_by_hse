{
 "cells": [
  {
   "cell_type": "markdown",
   "metadata": {},
   "source": [
    "# PCA (principal component analysis) transformation"
   ]
  },
  {
   "cell_type": "code",
   "execution_count": 3,
   "metadata": {},
   "outputs": [],
   "source": [
    "import pandas as pd\n",
    "import numpy as np\n",
    "from sklearn.decomposition import PCA"
   ]
  },
  {
   "cell_type": "code",
   "execution_count": 4,
   "metadata": {},
   "outputs": [],
   "source": [
    "%%capture \n",
    "%run nihil_ml_utils.ipynb"
   ]
  },
  {
   "cell_type": "code",
   "execution_count": 6,
   "metadata": {},
   "outputs": [],
   "source": [
    "# data upload\n",
    "# date, first company, second, ..., thirty company\n",
    "close_prices = pd.read_csv(to_path('close_prices.csv'), index_col='date')"
   ]
  },
  {
   "cell_type": "code",
   "execution_count": 7,
   "metadata": {},
   "outputs": [
    {
     "data": {
      "text/plain": [
       "PCA(copy=True, iterated_power='auto', n_components=10, random_state=None,\n",
       "  svd_solver='auto', tol=0.0, whiten=False)"
      ]
     },
     "execution_count": 7,
     "metadata": {},
     "output_type": "execute_result"
    }
   ],
   "source": [
    "# Train PCA - i.e transform original 30 features space to n_components space\n",
    "pca = PCA(n_components=10)\n",
    "pca.fit(close_prices)"
   ]
  },
  {
   "cell_type": "code",
   "execution_count": 8,
   "metadata": {},
   "outputs": [
    {
     "data": {
      "text/plain": [
       "4"
      ]
     },
     "execution_count": 8,
     "metadata": {},
     "output_type": "execute_result"
    }
   ],
   "source": [
    "# How many features needed to cover 90% of variance:\n",
    "# NB! Argmax stops at first max value and returns it's index\n",
    "expl = pca.explained_variance_ratio_\n",
    "np.argmax(np.cumsum(expl) > 0.9) + 1"
   ]
  },
  {
   "cell_type": "code",
   "execution_count": 9,
   "metadata": {},
   "outputs": [],
   "source": [
    "# Transform original data and get first column\n",
    "approx = [row[0] for row in pca.transform(close_prices)]"
   ]
  },
  {
   "cell_type": "code",
   "execution_count": 10,
   "metadata": {},
   "outputs": [],
   "source": [
    "# Download Dow-Jones index\n",
    "djia_data = pd.read_csv(to_path('djia_index.csv'), index_col='date')\n",
    "djia_data['approx'] = approx"
   ]
  },
  {
   "cell_type": "code",
   "execution_count": 12,
   "metadata": {},
   "outputs": [
    {
     "name": "stdout",
     "output_type": "stream",
     "text": [
      "Pearson correlation: 0.91\n"
     ]
    }
   ],
   "source": [
    "# Calculate pearson correlation\n",
    "djia_data.corr()\n",
    "# another way using numpy\n",
    "np.corrcoef(djia_data, rowvar=False)\n",
    "print(f'Pearson correlation: {djia_data.corr().iloc[0, 1]:.2f}')"
   ]
  },
  {
   "cell_type": "code",
   "execution_count": 13,
   "metadata": {},
   "outputs": [
    {
     "name": "stdout",
     "output_type": "stream",
     "text": [
      "Company with most weight in first component is V\n"
     ]
    }
   ],
   "source": [
    "# Company which has most weight in first component\n",
    "cmp = close_prices.columns[np.argmax(pca.components_[0])]\n",
    "print(f'Company with most weight in first component is {cmp}')"
   ]
  }
 ],
 "metadata": {
  "kernelspec": {
   "display_name": "Python 3",
   "language": "python",
   "name": "python3"
  },
  "language_info": {
   "codemirror_mode": {
    "name": "ipython",
    "version": 3
   },
   "file_extension": ".py",
   "mimetype": "text/x-python",
   "name": "python",
   "nbconvert_exporter": "python",
   "pygments_lexer": "ipython3",
   "version": "3.6.3"
  }
 },
 "nbformat": 4,
 "nbformat_minor": 2
}
